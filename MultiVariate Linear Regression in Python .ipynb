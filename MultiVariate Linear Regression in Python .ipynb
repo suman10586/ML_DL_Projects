{
 "cells": [
  {
   "cell_type": "code",
   "execution_count": 1,
   "metadata": {},
   "outputs": [],
   "source": [
    "import numpy as np\n",
    "import matplotlib.pyplot as plt\n",
    "import pandas as pd\n",
    "from sklearn.linear_model import LinearRegression\n",
    "from sklearn.model_selection import train_test_split\n",
    "from pandas import DataFrame as df"
   ]
  },
  {
   "cell_type": "markdown",
   "metadata": {},
   "source": [
    "In Multivariate Linear Regression we have more variables (such as R&D Spend,Administration,Marketing Spend,Profit as in this case of our startup data)\n",
    "\n",
    "x1, x2, x3, are the three features\n",
    "x1 - R&D Spend\n",
    "x2 - Administration\n",
    "x3 - Marketing Spend \n",
    "\n",
    "y is the output variable (Profit)\n",
    "\n",
    "\n",
    "More notation:\n",
    "\n",
    "n  number of features (n = 3)  \n",
    "m  number of examples (i.e. number of rows in a table)\n",
    "\n",
    "Now we have multiple features\n",
    "\n",
    "What is the form of our hypothesis? \n",
    "\n",
    "Previously our hypothesis took the form\n",
    "h(x) = β0 + β1x\n",
    "\n",
    "Where we have two parameters (beta 0  and beta 1) determined by our cost function and One variable x\n",
    "\n",
    "Now we have multiple features\n",
    "\n",
    "h(x) = β0 + β1x1 + β2x2 + β3x3\n",
    "\n"
   ]
  },
  {
   "cell_type": "code",
   "execution_count": 2,
   "metadata": {},
   "outputs": [],
   "source": [
    "my_data = np.genfromtxt('50_Startups.csv', delimiter=',',skip_header=1) # Lets read the data"
   ]
  },
  {
   "cell_type": "code",
   "execution_count": 4,
   "metadata": {},
   "outputs": [],
   "source": [
    "# my_data  = data[1:] # Removing Data Header Line (As they are NaN Values) \n",
    "# Commenting as np.genfromtxt function has a skip_header method that's one less line of code :)\n",
    "\n",
    "# Normalising the Data as there is lot of difference in data point values, Causing Overflow in Gradient Calculation\n",
    "my_data = (my_data - my_data.mean())/my_data.std() "
   ]
  },
  {
   "cell_type": "code",
   "execution_count": 5,
   "metadata": {},
   "outputs": [],
   "source": [
    "# Splitting my_data into X and y arrays which will form the X and y Vectors\n",
    "x = my_data[0: , :-1]\n",
    "y = my_data[0: , -1:]"
   ]
  },
  {
   "cell_type": "code",
   "execution_count": 6,
   "metadata": {},
   "outputs": [],
   "source": [
    "ones = np.ones([x.shape[0],1])"
   ]
  },
  {
   "cell_type": "code",
   "execution_count": 8,
   "metadata": {},
   "outputs": [],
   "source": [
    "X = np.concatenate((ones,x),axis=1)"
   ]
  },
  {
   "cell_type": "code",
   "execution_count": 9,
   "metadata": {},
   "outputs": [
    {
     "data": {
      "text/plain": [
       "(46, 4)"
      ]
     },
     "execution_count": 9,
     "metadata": {},
     "output_type": "execute_result"
    }
   ],
   "source": [
    "X.shape"
   ]
  },
  {
   "cell_type": "code",
   "execution_count": 10,
   "metadata": {},
   "outputs": [],
   "source": [
    "# Intial Beta Values \n",
    "beta = np.zeros([1,4])"
   ]
  },
  {
   "cell_type": "code",
   "execution_count": 11,
   "metadata": {},
   "outputs": [
    {
     "data": {
      "text/plain": [
       "array([[0., 0., 0., 0.]])"
      ]
     },
     "execution_count": 11,
     "metadata": {},
     "output_type": "execute_result"
    }
   ],
   "source": [
    "beta"
   ]
  },
  {
   "cell_type": "code",
   "execution_count": 12,
   "metadata": {},
   "outputs": [],
   "source": [
    "#Setting Learning Rate and Iterations \n",
    "\n",
    "alpha = 0.01\n",
    "iters = 10000"
   ]
  },
  {
   "cell_type": "markdown",
   "metadata": {},
   "source": [
    "Cost Function:\n",
    "\n",
    "## $$ J(β) = \\frac{1}{2m } \\sum_{i=1}^{m}(h(β)^i-y^i)^2$$   \n",
    "\n",
    "\n",
    "Gradient:\n",
    "\n",
    "## $$  \\frac{\\partial J(β)}{\\partial β_j} = \\frac{1}{m}\\sum_{i=1}^{m}(h(β)^i-y^i).X^i_j$$\n",
    "\n",
    "\n",
    "For Multivariables the Gradient can be calculated as:\n",
    "\n",
    "## $$β_j := β_j - \\alpha \\frac{1}{m}\\sum_{i=1}^{m}(h(β)^i-y^i).X^i_j$$\n",
    "\n",
    "where alpha is learning rate."
   ]
  },
  {
   "cell_type": "code",
   "execution_count": 13,
   "metadata": {},
   "outputs": [],
   "source": [
    "def computeCost(X,y,beta):\n",
    "    do_summation = np.power(((X @ beta.T)-y),2)\n",
    "    return np.sum(do_summation)/(2 * len(X))"
   ]
  },
  {
   "cell_type": "code",
   "execution_count": 14,
   "metadata": {},
   "outputs": [
    {
     "name": "stdout",
     "output_type": "stream",
     "text": [
      "Stopped at 5835 Iteration\n",
      "[[ 0.25200897  0.75326271 -0.04407123  0.02720421]]\n",
      "0.003526984207141566\n"
     ]
    }
   ],
   "source": [
    "#Gradient Descent\n",
    "\n",
    "DELTA_COST_THRESH = 0.00001\n",
    "i=0\n",
    "def gradientDescent(X,y,beta,iters,alpha):\n",
    "    cost = np.zeros(iters)\n",
    "    for i in range(iters):\n",
    "        beta = beta - (alpha/len(X)) * np.sum(X * (X @ beta.T - y), axis=0)\n",
    "        cost[i] = computeCost(X, y, beta)\n",
    "        \n",
    "        # Stopping process based on Relative Change in Cost in successive Iterations.\n",
    "        # If Relative Change in cost is less than DELTA_COST_THRESH than Stop the Gradient Descent Process\n",
    "        if i>2:\n",
    "            if ((cost[i-1]-cost[i])/cost[i-1])<DELTA_COST_THRESH:\n",
    "                print(\"Stopped at \" + str(i) + \" Iteration\")\n",
    "                break\n",
    "        \n",
    "    return beta,cost\n",
    "\n",
    "\n",
    "#running the gd and cost function\n",
    "g,cost = gradientDescent(X,y,beta,iters,alpha)\n",
    "print(g)\n",
    "\n",
    "finalCost = computeCost(X,y,g)\n",
    "print(finalCost)"
   ]
  },
  {
   "cell_type": "code",
   "execution_count": 15,
   "metadata": {},
   "outputs": [
    {
     "data": {
      "text/plain": [
       "Text(0.5, 1.0, 'Error vs. Training Epoch')"
      ]
     },
     "execution_count": 15,
     "metadata": {},
     "output_type": "execute_result"
    },
    {
     "data": {
      "image/png": "[encoded data removed]",
      "text/plain": [
       "<Figure size 1224x720 with 1 Axes>"
      ]
     },
     "metadata": {
      "needs_background": "light"
     },
     "output_type": "display_data"
    }
   ],
   "source": [
    "#plot the cost\n",
    "plt.figure(figsize=[17, 10])\n",
    "\n",
    " \n",
    "plt.plot(np.arange(iters), cost, 'b')  \n",
    "plt.xlabel('Iterations')  \n",
    "plt.ylabel('Cost')  \n",
    "plt.title('Error vs. Training Epoch') "
   ]
  },
  {
   "cell_type": "code",
   "execution_count": 44,
   "metadata": {},
   "outputs": [],
   "source": [
    "# Testing prediction for just one  input value(first row of data) here:\n",
    "def predict(RD,Adm,Mar):\n",
    "    y_pred = (g[0][0] + g[0][1]*RD + g[0][2]*Adm + g[0][3]*Mar)\n",
    "    return y_pred\n",
    "    "
   ]
  },
  {
   "cell_type": "code",
   "execution_count": 17,
   "metadata": {},
   "outputs": [
    {
     "name": "stdout",
     "output_type": "stream",
     "text": [
      "0.6161706921796923\n"
     ]
    }
   ],
   "source": [
    "# We see we are pretty close to the actual profit values \n",
    "\n",
    "pred_profit  = predict(0.34,0.005,3.98)\n",
    "print(pred_profit)"
   ]
  },
  {
   "cell_type": "markdown",
   "metadata": {},
   "source": [
    "## Lets use the Scikit Learn"
   ]
  },
  {
   "cell_type": "code",
   "execution_count": 31,
   "metadata": {},
   "outputs": [],
   "source": [
    "df = pd.DataFrame(my_data)"
   ]
  },
  {
   "cell_type": "code",
   "execution_count": 35,
   "metadata": {},
   "outputs": [],
   "source": [
    "x = df[[0,1,2]]"
   ]
  },
  {
   "cell_type": "code",
   "execution_count": 36,
   "metadata": {},
   "outputs": [],
   "source": [
    "y = df[3]"
   ]
  },
  {
   "cell_type": "code",
   "execution_count": 39,
   "metadata": {},
   "outputs": [],
   "source": [
    "regr = LinearRegression()\n"
   ]
  },
  {
   "cell_type": "code",
   "execution_count": 40,
   "metadata": {},
   "outputs": [
    {
     "data": {
      "text/plain": [
       "LinearRegression(copy_X=True, fit_intercept=True, n_jobs=None,\n",
       "         normalize=False)"
      ]
     },
     "execution_count": 40,
     "metadata": {},
     "output_type": "execute_result"
    }
   ],
   "source": [
    "regr.fit(x,y)"
   ]
  },
  {
   "cell_type": "code",
   "execution_count": 43,
   "metadata": {},
   "outputs": [
    {
     "data": {
      "text/plain": [
       "array([ 0.77712216, -0.06028686,  0.0192574 ])"
      ]
     },
     "execution_count": 43,
     "metadata": {},
     "output_type": "execute_result"
    }
   ],
   "source": [
    "regr.coef_"
   ]
  },
  {
   "cell_type": "code",
   "execution_count": 41,
   "metadata": {},
   "outputs": [
    {
     "data": {
      "text/plain": [
       "0.27554777581870216"
      ]
     },
     "execution_count": 41,
     "metadata": {},
     "output_type": "execute_result"
    }
   ],
   "source": [
    "regr.intercept_"
   ]
  },
  {
   "cell_type": "code",
   "execution_count": 42,
   "metadata": {},
   "outputs": [
    {
     "data": {
      "text/plain": [
       "0.9608231830180131"
      ]
     },
     "execution_count": 42,
     "metadata": {},
     "output_type": "execute_result"
    }
   ],
   "source": [
    "regr.score(x,y)"
   ]
  },
  {
   "cell_type": "code",
   "execution_count": 51,
   "metadata": {},
   "outputs": [
    {
     "data": {
      "text/plain": [
       "array([0.61879078])"
      ]
     },
     "execution_count": 51,
     "metadata": {},
     "output_type": "execute_result"
    }
   ],
   "source": [
    "# Observed our Intercept and coeff values of scratch python and scikit learn lib are very close match.\n",
    "\n",
    "# Lets test our Prediction with just one row of data and our manual and scikit learn predictions match\n",
    "\n",
    "xp = df.iloc[[0],[0,1,2]]\n",
    "regr.predict(xp)"
   ]
  }
 ],
 "metadata": {
  "kernelspec": {
   "display_name": "Python 3",
   "language": "python",
   "name": "python3"
  },
  "language_info": {
   "codemirror_mode": {
    "name": "ipython",
    "version": 3
   },
   "file_extension": ".py",
   "mimetype": "text/x-python",
   "name": "python",
   "nbconvert_exporter": "python",
   "pygments_lexer": "ipython3",
   "version": "3.7.5"
  }
 },
 "nbformat": 4,
 "nbformat_minor": 2
}
