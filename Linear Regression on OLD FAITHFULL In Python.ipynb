{
 "cells": [
  {
   "cell_type": "code",
   "execution_count": 1,
   "metadata": {},
   "outputs": [],
   "source": [
    "import csv\n",
    "import numpy as np\n",
    "f = open(\"geyser.csv\",'r')\n",
    "\n",
    "reader = csv.reader(f)\n",
    "\n",
    "X = []\n",
    "Y = []\n",
    "\n",
    "for row in reader:\n",
    "    if row[1] != \"eruptions\":\n",
    "        X.append(float(row[1]))\n",
    "        Y.append(float(row[2]))\n",
    "\n",
    "f.close()\n",
    "\n"
   ]
  },
  {
   "cell_type": "code",
   "execution_count": 2,
   "metadata": {},
   "outputs": [],
   "source": [
    "def slr(X,Y):\n",
    "    \"\"\"\n",
    "    This Functions Evaluates beta_0(Slope) and beta_1(Intercept)\n",
    "    for X and Y values to get the bestfit line for Simple Linear Regression\n",
    "    \n",
    "    # Eruption Duration Values (Input) in mins\n",
    "    # X = [3.1,3.2,2.6,......]\n",
    "\n",
    "    # Waiting Time Values (Output) in mins\n",
    "    # Y = [88,65,75,......]\n",
    "\n",
    "    \"\"\"\n",
    "    \n",
    "    X_bar = np.mean(X)\n",
    "    Y_bar = np.mean(Y)\n",
    "    \n",
    "    Xi_X_bar=[]\n",
    "    Xi_X_bar_2=[]\n",
    "    Xi_X_bar_mul_Yi_Y_bar=[]\n",
    "    \n",
    "    for i in range(len(X)):\n",
    "        Xi_X_bar.append(X[i] - X_bar)\n",
    "        Xi_X_bar_2.append((X[i] - X_bar)**2)\n",
    "        Xi_X_bar_mul_Yi_Y_bar.append((X[i] - X_bar) * (Y[i] -Y_bar))\n",
    "    numerator = np.sum(Xi_X_bar_mul_Yi_Y_bar)\n",
    "    denominator = np.sum(Xi_X_bar_2)\n",
    "    beta_1 = numerator/denominator\n",
    "    beta_0 = Y_bar - beta_1 * X_bar\n",
    "    #print('beta_0 (Intercept) is: ', beta_0)\n",
    "    #print('beta_1 (Slope) is : ', beta_1)\n",
    "    return (beta_0,beta_1)\n",
    "    \n",
    "    "
   ]
  },
  {
   "cell_type": "code",
   "execution_count": 3,
   "metadata": {},
   "outputs": [
    {
     "data": {
      "text/plain": [
       "(33.47439702275336, 10.729641395133525)"
      ]
     },
     "execution_count": 3,
     "metadata": {},
     "output_type": "execute_result"
    }
   ],
   "source": [
    "betas = slr(X,Y)\n",
    "betas\n"
   ]
  },
  {
   "cell_type": "code",
   "execution_count": 4,
   "metadata": {},
   "outputs": [],
   "source": [
    "def predict(x):\n",
    "    \"\"\"\n",
    "    This function predicts wait time (in mins) for the next eruption to happen.\n",
    "    Args: x ('Last Eruption Duration (mins)')\n",
    "    \n",
    "    \"\"\"\n",
    "    (beta_0,beta_1) = slr(X,Y)\n",
    "    pred_y = beta_0 + beta_1*x\n",
    "    #print(f'The Next Eruption is Predicted to be in {pred_y} mins')\n",
    "    return pred_y\n"
   ]
  },
  {
   "cell_type": "code",
   "execution_count": 5,
   "metadata": {},
   "outputs": [
    {
     "data": {
      "text/plain": [
       "54.933679813020404"
      ]
     },
     "execution_count": 5,
     "metadata": {},
     "output_type": "execute_result"
    }
   ],
   "source": [
    "predict(2)"
   ]
  },
  {
   "cell_type": "markdown",
   "metadata": {},
   "source": [
    "## Model Valdation with RSE(Residual Standard Error) & R-Squared\n",
    "\n",
    "\n",
    "$$RSE = \\sqrt\\frac{RSS}{n-2}$$\n",
    "\n",
    "## Calculate R-Squared\n",
    "\n",
    "### $$R^2 = 1 -\\frac{RSS}{TSS}$$\n",
    "\n",
    "where TSS is Total Sum of Squares \n",
    "\n",
    "### $$ TSS = \\sum_{i=1}^{n}(y_i-\\bar{y})^2$$\n",
    "\n",
    "\n",
    "####   where yi – the value in a sample  \n",
    "#####  ȳ – the mean value of a sample"
   ]
  },
  {
   "cell_type": "code",
   "execution_count": 6,
   "metadata": {},
   "outputs": [
    {
     "name": "stdout",
     "output_type": "stream",
     "text": [
      " RSE is 5.91 mins\n",
      " R-Squared is 0.8114607609733098\n"
     ]
    }
   ],
   "source": [
    "def calculate_evaluation_metrics(betas):\n",
    "    \"\"\"\n",
    "    This function calculates RSS (in mins) RSE and R-Squared\n",
    "    Args: betas (takes beta_0 and beta_1 values)\n",
    "    \n",
    "    \"\"\"\n",
    "    TSS=0\n",
    "    RSS=0\n",
    "    for idx in range(0,len(X)):\n",
    "        pred_Y = predict(X[idx])\n",
    "        actual_Y = Y[idx]\n",
    "        error = pred_Y - actual_Y\n",
    "        RSS = RSS+(error**2)\n",
    "        Y_bar = np.mean(Y)\n",
    "        TSS = TSS+(actual_Y - Y_bar)**2\n",
    "        R_squared = 1 - (RSS/TSS)\n",
    "        #print(idx+1,RSS)\n",
    "    RSE = round(np.sqrt(RSS/(len(X)-2)),2)\n",
    "    print(f' RSE is {RSE} mins')\n",
    "    print(f' R-Squared is {R_squared}')\n",
    "  \n",
    "\n",
    "calculate_evaluation_metrics(betas)"
   ]
  },
  {
   "cell_type": "code",
   "execution_count": null,
   "metadata": {},
   "outputs": [],
   "source": []
  }
 ],
 "metadata": {
  "kernelspec": {
   "display_name": "Python 3",
   "language": "python",
   "name": "python3"
  },
  "language_info": {
   "codemirror_mode": {
    "name": "ipython",
    "version": 3
   },
   "file_extension": ".py",
   "mimetype": "text/x-python",
   "name": "python",
   "nbconvert_exporter": "python",
   "pygments_lexer": "ipython3",
   "version": "3.7.4"
  }
 },
 "nbformat": 4,
 "nbformat_minor": 2
}
